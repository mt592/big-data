{
 "cells": [
  {
   "cell_type": "code",
   "execution_count": 1,
   "metadata": {},
   "outputs": [],
   "source": [
    "%%init_spark\n",
    "launcher.master=\"yarn\"\n",
    "launcher.num_executors=6\n",
    "launcher.executor_cores=2\n",
    "launcher.executor_memory=\"1600m\""
   ]
  },
  {
   "cell_type": "markdown",
   "metadata": {},
   "source": [
    "## Problem 1"
   ]
  },
  {
   "cell_type": "markdown",
   "metadata": {},
   "source": [
    "Customize record delimiter in spark"
   ]
  },
  {
   "cell_type": "code",
   "execution_count": 2,
   "metadata": {
    "scrolled": true
   },
   "outputs": [
    {
     "data": {
      "text/plain": [
       "Intitializing Scala interpreter ..."
      ]
     },
     "metadata": {},
     "output_type": "display_data"
    },
    {
     "data": {
      "text/plain": [
       "Spark Web UI available at http://bd-hm:8088/proxy/application_1571094080322_0007\n",
       "SparkContext available as 'sc' (version = 2.4.4, master = yarn, app id = application_1571094080322_0007)\n",
       "SparkSession available as 'spark'\n"
      ]
     },
     "metadata": {},
     "output_type": "display_data"
    },
    {
     "name": "stdout",
     "output_type": "stream",
     "text": [
      "URL\tftp://194.44.98.42/UPLOAD/SOFT/delphi/AForge.NET%20Framework-2.2.3/Release/AForge.Imaging.xml\n",
      "MENTION\tBayer filter\t863044\thttp://en.wikipedia.org/wiki/Bayer_filter\n",
      "TOKEN\tbluring\t905997\n",
      "TOKEN\twell\t863642\n",
      "TOKEN\tmakes\t863424\n",
      "TOKEN\tDarkKhaki\t837410\n",
      "TOKEN\tuser\t863302\n",
      "TOKEN\tenumeration\t923873\n",
      "TOKEN\telemement\t849381\n",
      "TOKEN\tgives\t847098\n",
      "TOKEN\tdiffR\t915725\n",
      "TOKEN\tskip\t846891\n",
      "URL\tftp://202.38.89.18/incoming/ASME/data/pdfs/trk-18/IMECE2011-63321.pdf\n",
      "MENTION\tstarter\t14667\thttp://en.wikipedia.org/wiki/Starter_motor\n",
      "TOKEN\tposition\t19094\n",
      "TOKEN\tup\t19610\n",
      "TOKEN\tinherently\t50290\n",
      "TOKEN\tpotion\t87557\n",
      "TOKEN\taway\t80271\n",
      "TOKEN\taccomplished\t26223\n",
      "TOKEN\tover\t117210\n",
      "TOKEN\tEmerging\t157103\n",
      "TOKEN\tdepending\t118387\n",
      "TOKEN\tpresent\t144887\n"
     ]
    },
    {
     "data": {
      "text/plain": [
       "conf: org.apache.hadoop.conf.Configuration = Configuration: core-default.xml, core-site.xml, mapred-default.xml, mapred-site.xml, yarn-default.xml, yarn-site.xml, hdfs-default.xml, hdfs-site.xml, __spark_hadoop_conf__.xml\n",
       "import org.apache.hadoop.mapreduce.lib.input.TextInputFormat\n",
       "import org.apache.hadoop.io.LongWritable\n",
       "import org.apache.hadoop.io.Text\n",
       "wikilinks: org.apache.spark.rdd.RDD[String] = MapPartitionsRDD[2] at filter at <console>:35\n"
      ]
     },
     "execution_count": 2,
     "metadata": {},
     "output_type": "execute_result"
    }
   ],
   "source": [
    "val conf=sc.hadoopConfiguration\n",
    "conf.set(\"textinputformat.record.delimiter\", \"\\n\\n\")\n",
    "\n",
    "import org.apache.hadoop.mapreduce.lib.input.TextInputFormat\n",
    "import org.apache.hadoop.io.LongWritable\n",
    "import org.apache.hadoop.io.Text\n",
    "\n",
    "val wikilinks=sc.newAPIHadoopFile(\"hdfs://bd-hm:9000/hadoop-user/data/data-00007-of-00010\",\n",
    "                                  classOf[TextInputFormat], classOf[LongWritable], classOf[Text], conf)\n",
    "                                    .map{case(offset,value)=>value.toString.trim()}\n",
    "                                    .filter(value=>value.length!=0)\n",
    "\n",
    "wikilinks.take(2).foreach(println)"
   ]
  },
  {
   "cell_type": "markdown",
   "metadata": {},
   "source": [
    "#### Question 1. Create (URL1, URL2)"
   ]
  },
  {
   "cell_type": "code",
   "execution_count": 3,
   "metadata": {},
   "outputs": [
    {
     "name": "stdout",
     "output_type": "stream",
     "text": [
      "(URL\tftp://194.44.98.42/UPLOAD/SOFT/delphi/AForge.NET%20Framework-2.2.3/Release/AForge.Imaging.xml,MENTION\tBayer filter\t863044\thttp://en.wikipedia.org/wiki/Bayer_filter)\n",
      "(URL\tftp://202.38.89.18/incoming/ASME/data/pdfs/trk-18/IMECE2011-63321.pdf,MENTION\tstarter\t14667\thttp://en.wikipedia.org/wiki/Starter_motor)\n",
      "(URL\tftp://212.154.195.122/Obshaya%20medicina/5%20kurs/Nevrol.Psyhiatr.Narkolog/angl/Lekcii/26.doc,MENTION\tphysical\t27168\thttp://en.wikipedia.org/wiki/Physical)\n",
      "(URL\tftp://212.154.195.122/Obshaya%20medicina/5%20kurs/Nevrol.Psyhiatr.Narkolog/angl/Lekcii/26.doc,MENTION\tpsychological\t27384\thttp://en.wikipedia.org/wiki/Psychological)\n",
      "(URL\tftp://212.154.195.122/Obshaya%20medicina/5%20kurs/Nevrol.Psyhiatr.Narkolog/angl/Lekcii/26.doc,MENTION\twithdrawal\t27943\thttp://en.wikipedia.org/wiki/Withdrawal)\n"
     ]
    },
    {
     "data": {
      "text/plain": [
       "pairs: org.apache.spark.rdd.RDD[(String, String)] = MapPartitionsRDD[4] at flatMapValues at <console>:30\n",
       "urlMent: org.apache.spark.rdd.RDD[(String, String)] = MapPartitionsRDD[5] at filter at <console>:32\n"
      ]
     },
     "execution_count": 3,
     "metadata": {},
     "output_type": "execute_result"
    }
   ],
   "source": [
    "//Get a line per URL and Mention/Token\n",
    "val pairs= wikilinks.map(line=>(line.split(\"\\n\")(0), line)).flatMapValues(l=>l.split(\"\\n\"))\n",
    "//Filter to only the URLs and Mentions\n",
    "val urlMent= pairs.filter((k) => k._2.contains(\"MENTION\"))\n",
    "\n",
    "urlMent.take(5).foreach(println)"
   ]
  },
  {
   "cell_type": "code",
   "execution_count": 4,
   "metadata": {},
   "outputs": [
    {
     "name": "stdout",
     "output_type": "stream",
     "text": [
      "(ftp://194.44.98.42/UPLOAD/SOFT/delphi/AForge.NET%20Framework-2.2.3/Release/AForge.Imaging.xml,http://en.wikipedia.org/wiki/Bayer_filter)\n",
      "(ftp://202.38.89.18/incoming/ASME/data/pdfs/trk-18/IMECE2011-63321.pdf,http://en.wikipedia.org/wiki/Starter_motor)\n",
      "(ftp://212.154.195.122/Obshaya%20medicina/5%20kurs/Nevrol.Psyhiatr.Narkolog/angl/Lekcii/26.doc,http://en.wikipedia.org/wiki/Physical)\n",
      "(ftp://212.154.195.122/Obshaya%20medicina/5%20kurs/Nevrol.Psyhiatr.Narkolog/angl/Lekcii/26.doc,http://en.wikipedia.org/wiki/Psychological)\n",
      "(ftp://212.154.195.122/Obshaya%20medicina/5%20kurs/Nevrol.Psyhiatr.Narkolog/angl/Lekcii/26.doc,http://en.wikipedia.org/wiki/Withdrawal)\n"
     ]
    },
    {
     "data": {
      "text/plain": [
       "urlMentClean: org.apache.spark.rdd.RDD[(String, String)] = MapPartitionsRDD[6] at map at <console>:30\n"
      ]
     },
     "execution_count": 4,
     "metadata": {},
     "output_type": "execute_result"
    }
   ],
   "source": [
    "//Remove everything except the webpage links\n",
    "val urlMentClean= urlMent.map((k) => (k._1.split(\"\\t\").last, k._2.split(\"\\t\").last))\n",
    "urlMentClean.take(5).foreach(println)"
   ]
  },
  {
   "cell_type": "markdown",
   "metadata": {},
   "source": [
    "#### Question 2. Number of times URL has been mentioned, and 10 most frequently mentioned"
   ]
  },
  {
   "cell_type": "code",
   "execution_count": 5,
   "metadata": {},
   "outputs": [
    {
     "name": "stdout",
     "output_type": "stream",
     "text": [
      "(http://en.wikipedia.org/wiki/Dimension_(disambiguation),1)\n",
      "(http://en.wikipedia.org/wiki/File:Williamson_clint_swci_official_196.jpg,1)\n",
      "(http://en.wikipedia.org/wiki/Splint_(medical),1)\n",
      "(http://en.wikipedia.org/wiki/Milbridge,1)\n",
      "(http://en.wikipedia.org/wiki/Moravian_church,1)\n",
      "(http://en.wikipedia.org/wiki/Tofik_Bakhramov,2)\n",
      "(http://en.wikipedia.org/wiki/Thrikodithanam,1)\n",
      "(http://en.wikipedia.org/wiki/One_Day_at_a_Time,7)\n",
      "(http://en.wikipedia.org/wiki/Unknot,1)\n",
      "(http://en.wikipedia.org/wiki/Bourbon_Street,31)\n",
      "(http://en.wikipedia.org/wiki/Valerie_Plame_affair,1)\n",
      "(http://en.wikipedia.org/wiki/Small_world_networks,1)\n",
      "(http://en.wikipedia.org/wiki/Robert_Ervin_Howard,1)\n",
      "(http://en.wikipedia.org/wiki/Matteo_Nigetti,1)\n",
      "(http://en.wikipedia.org/wiki/Atom_Egoyan,6)\n",
      "(http://en.wikipedia.org/wiki/Besud,1)\n",
      "(http://en.wikipedia.org/wiki/Double-ender,1)\n",
      "(http://en.wikipedia.org/wiki/Steady_On_(Shawn_Colvin_album),1)\n",
      "(http://en.wikipedia.org/wiki/Ilgachuz_Range,2)\n",
      "(http://en.wikipedia.org/wiki/Nostalgia,26)\n",
      "(http://en.wikipedia.org/wiki/Kepler_(software),1)\n",
      "(http://en.wikipedia.org/wiki/Stoics,10)\n",
      "(http://en.wikipedia.org/wiki/Cindy_Klassen,1)\n",
      "(http://en.wikipedia.org/wiki/Kishkashta,1)\n",
      "(http://en.wikipedia.org/wiki/Proper_superset,1)\n"
     ]
    },
    {
     "data": {
      "text/plain": [
       "countMent: org.apache.spark.rdd.RDD[(String, Int)] = ShuffledRDD[11] at reduceByKey at <console>:30\n"
      ]
     },
     "execution_count": 5,
     "metadata": {},
     "output_type": "execute_result"
    }
   ],
   "source": [
    "//Number of times URL has been mentioned by another URL - in the form (URL, # mentions)\n",
    "val countMent= urlMentClean.map(word=>word._2.split(\",\")).map(s=>(s(0).toString)).flatMap(x=>x.split(\"\\n\")).map(word=>(word,1)).reduceByKey((v1,v2)=>v1+v2)\n",
    "countMent.take(25).foreach(println)"
   ]
  },
  {
   "cell_type": "code",
   "execution_count": 6,
   "metadata": {
    "scrolled": true
   },
   "outputs": [
    {
     "name": "stdout",
     "output_type": "stream",
     "text": [
      "(http://en.wikipedia.org/wiki/Flickr,8009)\n",
      "(http://en.wikipedia.org/wiki/Wikipedia:Stub,5579)\n",
      "(http://en.wikipedia.org/wiki/United_States,4551)\n",
      "(http://en.wikipedia.org/wiki/World_War_II,3148)\n",
      "(http://en.wikipedia.org/wiki/India,3094)\n",
      "(http://en.wikipedia.org/wiki/God,2875)\n",
      "(http://en.wikipedia.org/wiki/Copyright,2178)\n",
      "(http://en.wikipedia.org/wiki/New_York_City,2063)\n",
      "(http://en.wikipedia.org/wiki/Europe,2040)\n",
      "(http://en.wikipedia.org/wiki/U.S._state,1918)\n"
     ]
    },
    {
     "data": {
      "text/plain": [
       "top10: org.apache.spark.rdd.RDD[(String, Int)] = MapPartitionsRDD[16] at sortBy at <console>:30\n"
      ]
     },
     "execution_count": 6,
     "metadata": {},
     "output_type": "execute_result"
    }
   ],
   "source": [
    "//Print top 10 most mentioned urls\n",
    "val top10=countMent.sortBy(x=>x._2, false)\n",
    "top10.take(10).foreach(println)"
   ]
  },
  {
   "cell_type": "markdown",
   "metadata": {},
   "source": [
    "#### Question 3. Symmetric URL pairs"
   ]
  },
  {
   "cell_type": "code",
   "execution_count": 7,
   "metadata": {
    "scrolled": true
   },
   "outputs": [
    {
     "data": {
      "text/plain": [
       "mentUrl: org.apache.spark.rdd.RDD[(String, String)] = MapPartitionsRDD[17] at map at <console>:30\n",
       "join: org.apache.spark.rdd.RDD[(String, (String, String))] = MapPartitionsRDD[20] at join at <console>:33\n"
      ]
     },
     "execution_count": 7,
     "metadata": {},
     "output_type": "execute_result"
    }
   ],
   "source": [
    "//Swap Mentions as the key, and URL as value\n",
    "val mentUrl = urlMentClean.map(x=>(x._2, x._1))\n",
    "\n",
    "//Join by keys\n",
    "val join= mentUrl.join(urlMentClean)\n",
    "\n",
    "join.take(1).foreach(println) "
   ]
  },
  {
   "cell_type": "markdown",
   "metadata": {},
   "source": [
    "There is no data in the output, so it appears that there are no symmetric URLs in the dataset!"
   ]
  }
 ],
 "metadata": {
  "kernelspec": {
   "display_name": "spylon-kernel",
   "language": "scala",
   "name": "spylon-kernel"
  },
  "language_info": {
   "codemirror_mode": "text/x-scala",
   "file_extension": ".scala",
   "help_links": [
    {
     "text": "MetaKernel Magics",
     "url": "https://metakernel.readthedocs.io/en/latest/source/README.html"
    }
   ],
   "mimetype": "text/x-scala",
   "name": "scala",
   "pygments_lexer": "scala",
   "version": "0.4.1"
  }
 },
 "nbformat": 4,
 "nbformat_minor": 2
}
